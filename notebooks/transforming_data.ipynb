{
 "cells": [
  {
   "cell_type": "markdown",
   "metadata": {},
   "source": [
    "Esse arquivo serve para realizar qualquer transformação de dados na base, ou seja, a normalização das colunas e conversão de valores simbólicos em numéricos"
   ]
  },
  {
   "cell_type": "code",
   "execution_count": 1,
   "metadata": {},
   "outputs": [],
   "source": [
    "import pandas as pd\n",
    "import os"
   ]
  },
  {
   "cell_type": "code",
   "execution_count": 2,
   "metadata": {},
   "outputs": [],
   "source": [
    "# Importando as constantes de constant.py no notebook\n",
    "\n",
    "%run ../utils/constants.py"
   ]
  },
  {
   "cell_type": "code",
   "execution_count": 3,
   "metadata": {},
   "outputs": [],
   "source": [
    "REMOVED_NULL_INSTANCES_FILEPATH = os.path.join(DATA_DIRPATH, \"kepler_removed_null_instances.csv\")"
   ]
  },
  {
   "cell_type": "code",
   "execution_count": 4,
   "metadata": {},
   "outputs": [],
   "source": [
    "df = pd.read_csv(REMOVED_NULL_INSTANCES_FILEPATH)"
   ]
  },
  {
   "cell_type": "code",
   "execution_count": 5,
   "metadata": {},
   "outputs": [],
   "source": [
    "# Conversão da coluna \"dec_str\" de object para float (em decimais)\n",
    "\n",
    "import re\n",
    "\n",
    "def convertToFloatDegrees(data: str) -> float:\n",
    "\n",
    "    degrees_pattern = re.compile(r\"\\d+(?=d)\")\n",
    "    minutes_pattern = re.compile(r\"\\d+(?=m)\")\n",
    "    seconds_pattern = re.compile(r\"[\\d\\.]+(?=s)\")\n",
    "\n",
    "    degrees = float(degrees_pattern.search(data).group())\n",
    "    minutes = float(minutes_pattern.search(data).group())\n",
    "    seconds = float(seconds_pattern.search(data).group())\n",
    "\n",
    "    return degrees + minutes / 60 + seconds / 3600\n",
    "\n",
    "df[\"dec\"] = df[\"dec_str\"].apply(convertToFloatDegrees)"
   ]
  },
  {
   "cell_type": "code",
   "execution_count": 6,
   "metadata": {},
   "outputs": [],
   "source": [
    "# Conversão da coluna \"ra_str\" de object para float\n",
    "\n",
    "def convertToFloatHours(data: str) -> float:\n",
    "\n",
    "    hours_pattern = re.compile(r\"\\d+(?=h)\")\n",
    "    minutes_pattern = re.compile(r\"\\d+(?=m)\")\n",
    "    seconds_pattern = re.compile(r\"[\\d\\.]+(?=s)\")\n",
    "\n",
    "    hours = float(hours_pattern.search(data).group())\n",
    "    minutes = float(minutes_pattern.search(data).group())\n",
    "    seconds = float(seconds_pattern.search(data).group())\n",
    "\n",
    "    return hours + minutes / 60 + seconds / 3600\n",
    "\n",
    "df[\"ra\"] = df[\"ra_str\"].apply(convertToFloatHours)"
   ]
  },
  {
   "cell_type": "code",
   "execution_count": 7,
   "metadata": {},
   "outputs": [],
   "source": [
    "CONVERTED_TYPES_FILEPATH = os.path.join(DATA_DIRPATH, \"kepler_coverted_types.csv\")\n",
    "df.to_csv(CONVERTED_TYPES_FILEPATH, index=False)"
   ]
  },
  {
   "cell_type": "markdown",
   "metadata": {},
   "source": [
    "Serão removidas as colunas \"dec_str\" e \"ra_str\" no arquivo \"cleaning_data.ipynb\""
   ]
  },
  {
   "cell_type": "code",
   "execution_count": 8,
   "metadata": {},
   "outputs": [],
   "source": [
    "REMOVED_COLUMNS_FILEPATH = os.path.join(DATA_DIRPATH, \"kepler_removed_columns.csv\")"
   ]
  },
  {
   "cell_type": "code",
   "execution_count": 9,
   "metadata": {},
   "outputs": [],
   "source": [
    "df = pd.read_csv(REMOVED_COLUMNS_FILEPATH)"
   ]
  },
  {
   "cell_type": "code",
   "execution_count": 10,
   "metadata": {},
   "outputs": [],
   "source": [
    "# Conversão da coluna \"koi_tce_delivname\" de object para int\n",
    "\n",
    "mapper = {value: number for number, value in enumerate(df[\"koi_tce_delivname\"].unique())}\n",
    "\n",
    "df[\"koi_tce_delivname\"] = df[\"koi_tce_delivname\"].map(mapper)"
   ]
  },
  {
   "cell_type": "code",
   "execution_count": 11,
   "metadata": {},
   "outputs": [
    {
     "data": {
      "text/plain": [
       "koi_tce_delivname\n",
       "0    6619\n",
       "1     294\n",
       "2     199\n",
       "Name: count, dtype: int64"
      ]
     },
     "execution_count": 11,
     "metadata": {},
     "output_type": "execute_result"
    }
   ],
   "source": [
    "df[\"koi_tce_delivname\"].value_counts()"
   ]
  },
  {
   "cell_type": "code",
   "execution_count": 12,
   "metadata": {},
   "outputs": [],
   "source": [
    "df.to_csv(CONVERTED_TYPES_FILEPATH, index=False)"
   ]
  },
  {
   "cell_type": "code",
   "execution_count": 13,
   "metadata": {},
   "outputs": [],
   "source": [
    "df = pd.read_csv(CONVERTED_TYPES_FILEPATH)"
   ]
  },
  {
   "cell_type": "code",
   "execution_count": 14,
   "metadata": {},
   "outputs": [],
   "source": [
    "# Conversão da coluna \"koi_disposition\" de object para int\n",
    "\n",
    "mapper = {value: number for number, value in enumerate(df[\"koi_disposition\"].unique())}\n",
    "\n",
    "df[\"koi_disposition\"] = df[\"koi_disposition\"].map(mapper)"
   ]
  },
  {
   "cell_type": "code",
   "execution_count": 15,
   "metadata": {},
   "outputs": [
    {
     "data": {
      "text/plain": [
       "koi_disposition\n",
       "1    4381\n",
       "0    2731\n",
       "Name: count, dtype: int64"
      ]
     },
     "execution_count": 15,
     "metadata": {},
     "output_type": "execute_result"
    }
   ],
   "source": [
    "df[\"koi_disposition\"].value_counts()"
   ]
  },
  {
   "cell_type": "code",
   "execution_count": 16,
   "metadata": {},
   "outputs": [
    {
     "name": "stdout",
     "output_type": "stream",
     "text": [
      "(7112, 14)\n",
      "(14,)\n"
     ]
    }
   ],
   "source": [
    "# Normalização das colunas float entre 0 e 1\n",
    "\n",
    "from sklearn.preprocessing import normalize\n",
    "\n",
    "df_float_only = df.select_dtypes(\"float64\")\n",
    "\n",
    "normalized_data = normalize(df_float_only)\n",
    "float_columns = df_float_only.columns\n",
    "\n",
    "print(normalized_data.shape)\n",
    "print(float_columns.shape)\n",
    "\n",
    "for i in range(0, normalized_data.shape[1]):\n",
    "\n",
    "    df[float_columns[i]] = normalized_data[:, i]"
   ]
  },
  {
   "cell_type": "code",
   "execution_count": 17,
   "metadata": {},
   "outputs": [
    {
     "data": {
      "text/html": [
       "<div>\n",
       "<style scoped>\n",
       "    .dataframe tbody tr th:only-of-type {\n",
       "        vertical-align: middle;\n",
       "    }\n",
       "\n",
       "    .dataframe tbody tr th {\n",
       "        vertical-align: top;\n",
       "    }\n",
       "\n",
       "    .dataframe thead th {\n",
       "        text-align: right;\n",
       "    }\n",
       "</style>\n",
       "<table border=\"1\" class=\"dataframe\">\n",
       "  <thead>\n",
       "    <tr style=\"text-align: right;\">\n",
       "      <th></th>\n",
       "      <th>koi_disposition</th>\n",
       "      <th>koi_fpflag_nt</th>\n",
       "      <th>koi_fpflag_ss</th>\n",
       "      <th>koi_fpflag_co</th>\n",
       "      <th>koi_fpflag_ec</th>\n",
       "      <th>koi_impact</th>\n",
       "      <th>koi_duration</th>\n",
       "      <th>koi_depth</th>\n",
       "      <th>koi_prad</th>\n",
       "      <th>koi_teq</th>\n",
       "      <th>koi_insol</th>\n",
       "      <th>koi_model_snr</th>\n",
       "      <th>koi_tce_plnt_num</th>\n",
       "      <th>koi_tce_delivname</th>\n",
       "      <th>koi_steff</th>\n",
       "      <th>koi_slogg</th>\n",
       "      <th>koi_srad</th>\n",
       "      <th>koi_kepmag</th>\n",
       "      <th>dec</th>\n",
       "      <th>ra</th>\n",
       "    </tr>\n",
       "  </thead>\n",
       "  <tbody>\n",
       "    <tr>\n",
       "      <th>0</th>\n",
       "      <td>0</td>\n",
       "      <td>0</td>\n",
       "      <td>0</td>\n",
       "      <td>0</td>\n",
       "      <td>0</td>\n",
       "      <td>0.000026</td>\n",
       "      <td>0.000533</td>\n",
       "      <td>0.110999</td>\n",
       "      <td>0.000407</td>\n",
       "      <td>0.142940</td>\n",
       "      <td>0.016870</td>\n",
       "      <td>0.006453</td>\n",
       "      <td>0.000180</td>\n",
       "      <td>0</td>\n",
       "      <td>0.983273</td>\n",
       "      <td>0.000805</td>\n",
       "      <td>0.000167</td>\n",
       "      <td>0.002766</td>\n",
       "      <td>0.008678</td>\n",
       "      <td>0.003508</td>\n",
       "    </tr>\n",
       "    <tr>\n",
       "      <th>1</th>\n",
       "      <td>0</td>\n",
       "      <td>0</td>\n",
       "      <td>0</td>\n",
       "      <td>0</td>\n",
       "      <td>0</td>\n",
       "      <td>0.000106</td>\n",
       "      <td>0.000813</td>\n",
       "      <td>0.157827</td>\n",
       "      <td>0.000511</td>\n",
       "      <td>0.079924</td>\n",
       "      <td>0.001644</td>\n",
       "      <td>0.004655</td>\n",
       "      <td>0.000361</td>\n",
       "      <td>0</td>\n",
       "      <td>0.984165</td>\n",
       "      <td>0.000806</td>\n",
       "      <td>0.000167</td>\n",
       "      <td>0.002769</td>\n",
       "      <td>0.008685</td>\n",
       "      <td>0.003511</td>\n",
       "    </tr>\n",
       "    <tr>\n",
       "      <th>2</th>\n",
       "      <td>1</td>\n",
       "      <td>0</td>\n",
       "      <td>1</td>\n",
       "      <td>0</td>\n",
       "      <td>0</td>\n",
       "      <td>0.000126</td>\n",
       "      <td>0.000238</td>\n",
       "      <td>0.800067</td>\n",
       "      <td>0.003313</td>\n",
       "      <td>0.138144</td>\n",
       "      <td>0.088329</td>\n",
       "      <td>0.050069</td>\n",
       "      <td>0.000099</td>\n",
       "      <td>0</td>\n",
       "      <td>0.574857</td>\n",
       "      <td>0.000452</td>\n",
       "      <td>0.000078</td>\n",
       "      <td>0.001545</td>\n",
       "      <td>0.004782</td>\n",
       "      <td>0.001885</td>\n",
       "    </tr>\n",
       "    <tr>\n",
       "      <th>3</th>\n",
       "      <td>0</td>\n",
       "      <td>0</td>\n",
       "      <td>0</td>\n",
       "      <td>0</td>\n",
       "      <td>0</td>\n",
       "      <td>0.000111</td>\n",
       "      <td>0.000263</td>\n",
       "      <td>0.095900</td>\n",
       "      <td>0.000437</td>\n",
       "      <td>0.223495</td>\n",
       "      <td>0.147221</td>\n",
       "      <td>0.006501</td>\n",
       "      <td>0.000159</td>\n",
       "      <td>0</td>\n",
       "      <td>0.958677</td>\n",
       "      <td>0.000705</td>\n",
       "      <td>0.000166</td>\n",
       "      <td>0.002465</td>\n",
       "      <td>0.007666</td>\n",
       "      <td>0.003060</td>\n",
       "    </tr>\n",
       "    <tr>\n",
       "      <th>4</th>\n",
       "      <td>0</td>\n",
       "      <td>0</td>\n",
       "      <td>0</td>\n",
       "      <td>0</td>\n",
       "      <td>0</td>\n",
       "      <td>0.000086</td>\n",
       "      <td>0.000730</td>\n",
       "      <td>0.241223</td>\n",
       "      <td>0.000620</td>\n",
       "      <td>0.132732</td>\n",
       "      <td>0.018250</td>\n",
       "      <td>0.010571</td>\n",
       "      <td>0.000159</td>\n",
       "      <td>0</td>\n",
       "      <td>0.961079</td>\n",
       "      <td>0.000713</td>\n",
       "      <td>0.000155</td>\n",
       "      <td>0.002498</td>\n",
       "      <td>0.007666</td>\n",
       "      <td>0.003140</td>\n",
       "    </tr>\n",
       "  </tbody>\n",
       "</table>\n",
       "</div>"
      ],
      "text/plain": [
       "   koi_disposition  koi_fpflag_nt  koi_fpflag_ss  koi_fpflag_co  \\\n",
       "0                0              0              0              0   \n",
       "1                0              0              0              0   \n",
       "2                1              0              1              0   \n",
       "3                0              0              0              0   \n",
       "4                0              0              0              0   \n",
       "\n",
       "   koi_fpflag_ec  koi_impact  koi_duration  koi_depth  koi_prad   koi_teq  \\\n",
       "0              0    0.000026      0.000533   0.110999  0.000407  0.142940   \n",
       "1              0    0.000106      0.000813   0.157827  0.000511  0.079924   \n",
       "2              0    0.000126      0.000238   0.800067  0.003313  0.138144   \n",
       "3              0    0.000111      0.000263   0.095900  0.000437  0.223495   \n",
       "4              0    0.000086      0.000730   0.241223  0.000620  0.132732   \n",
       "\n",
       "   koi_insol  koi_model_snr  koi_tce_plnt_num  koi_tce_delivname  koi_steff  \\\n",
       "0   0.016870       0.006453          0.000180                  0   0.983273   \n",
       "1   0.001644       0.004655          0.000361                  0   0.984165   \n",
       "2   0.088329       0.050069          0.000099                  0   0.574857   \n",
       "3   0.147221       0.006501          0.000159                  0   0.958677   \n",
       "4   0.018250       0.010571          0.000159                  0   0.961079   \n",
       "\n",
       "   koi_slogg  koi_srad  koi_kepmag       dec        ra  \n",
       "0   0.000805  0.000167    0.002766  0.008678  0.003508  \n",
       "1   0.000806  0.000167    0.002769  0.008685  0.003511  \n",
       "2   0.000452  0.000078    0.001545  0.004782  0.001885  \n",
       "3   0.000705  0.000166    0.002465  0.007666  0.003060  \n",
       "4   0.000713  0.000155    0.002498  0.007666  0.003140  "
      ]
     },
     "execution_count": 17,
     "metadata": {},
     "output_type": "execute_result"
    }
   ],
   "source": [
    "df.head()"
   ]
  },
  {
   "cell_type": "code",
   "execution_count": 18,
   "metadata": {},
   "outputs": [],
   "source": [
    "NORMALIZED_FILEPATH = os.path.join(DATA_DIRPATH, \"kepler_normalized.csv\")"
   ]
  },
  {
   "cell_type": "code",
   "execution_count": 19,
   "metadata": {},
   "outputs": [],
   "source": [
    "df.to_csv(NORMALIZED_FILEPATH, index=False)"
   ]
  },
  {
   "cell_type": "markdown",
   "metadata": {},
   "source": [
    "Agora é possível construir o modelo de ML. Isso será feito no arquivo \"data_mining.ipynb\", que também será responsável por balancear a coluna-alvo"
   ]
  }
 ],
 "metadata": {
  "kernelspec": {
   "display_name": "venv",
   "language": "python",
   "name": "python3"
  },
  "language_info": {
   "codemirror_mode": {
    "name": "ipython",
    "version": 3
   },
   "file_extension": ".py",
   "mimetype": "text/x-python",
   "name": "python",
   "nbconvert_exporter": "python",
   "pygments_lexer": "ipython3",
   "version": "3.12.9"
  }
 },
 "nbformat": 4,
 "nbformat_minor": 2
}
