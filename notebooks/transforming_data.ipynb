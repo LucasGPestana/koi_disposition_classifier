{
 "cells": [
  {
   "cell_type": "markdown",
   "metadata": {},
   "source": [
    "Esse arquivo serve para realizar qualquer transformação de dados na base, ou seja, a normalização das colunas e conversão de valores simbólicos em numéricos"
   ]
  },
  {
   "cell_type": "code",
   "execution_count": 5,
   "metadata": {},
   "outputs": [],
   "source": [
    "import pandas as pd\n",
    "import os"
   ]
  },
  {
   "cell_type": "code",
   "execution_count": 6,
   "metadata": {},
   "outputs": [],
   "source": [
    "# Importando as constantes de constant.py no notebook\n",
    "\n",
    "%run ../utils/constants.py"
   ]
  },
  {
   "cell_type": "code",
   "execution_count": 7,
   "metadata": {},
   "outputs": [],
   "source": [
    "REMOVED_NULL_INSTANCES_FILEPATH = os.path.join(DATA_DIRPATH, \"kepler_removed_null_instances.csv\")"
   ]
  },
  {
   "cell_type": "code",
   "execution_count": 8,
   "metadata": {},
   "outputs": [],
   "source": [
    "df = pd.read_csv(REMOVED_NULL_INSTANCES_FILEPATH)"
   ]
  },
  {
   "cell_type": "code",
   "execution_count": 9,
   "metadata": {},
   "outputs": [],
   "source": [
    "# Conversão da coluna \"dec_str\" de object para float (em decimais)\n",
    "\n",
    "import re\n",
    "\n",
    "def convertToFloatDegrees(data: str) -> float:\n",
    "\n",
    "    degrees_pattern = re.compile(r\"\\d+(?=d)\")\n",
    "    minutes_pattern = re.compile(r\"\\d+(?=m)\")\n",
    "    seconds_pattern = re.compile(r\"[\\d\\.]+(?=s)\")\n",
    "\n",
    "    degrees = float(degrees_pattern.search(data).group())\n",
    "    minutes = float(minutes_pattern.search(data).group())\n",
    "    seconds = float(seconds_pattern.search(data).group())\n",
    "\n",
    "    return degrees + minutes / 60 + seconds / 3600\n",
    "\n",
    "df[\"dec\"] = df[\"dec_str\"].apply(convertToFloatDegrees)"
   ]
  },
  {
   "cell_type": "code",
   "execution_count": 10,
   "metadata": {},
   "outputs": [],
   "source": [
    "# Conversão da coluna \"ra_str\" de object para float\n",
    "\n",
    "def convertToFloatHours(data: str) -> float:\n",
    "\n",
    "    hours_pattern = re.compile(r\"\\d+(?=h)\")\n",
    "    minutes_pattern = re.compile(r\"\\d+(?=m)\")\n",
    "    seconds_pattern = re.compile(r\"[\\d\\.]+(?=s)\")\n",
    "\n",
    "    hours = float(hours_pattern.search(data).group())\n",
    "    minutes = float(minutes_pattern.search(data).group())\n",
    "    seconds = float(seconds_pattern.search(data).group())\n",
    "\n",
    "    return hours + minutes / 60 + seconds / 3600\n",
    "\n",
    "df[\"ra\"] = df[\"ra_str\"].apply(convertToFloatHours)"
   ]
  },
  {
   "cell_type": "code",
   "execution_count": 11,
   "metadata": {},
   "outputs": [],
   "source": [
    "CONVERTED_TYPES_FILEPATH = os.path.join(DATA_DIRPATH, \"kepler_coverted_types.csv\")\n",
    "df.to_csv(CONVERTED_TYPES_FILEPATH, index=False)"
   ]
  },
  {
   "cell_type": "markdown",
   "metadata": {},
   "source": [
    "Serão removidas as colunas \"dec_str\" e \"ra_str\" no arquivo \"cleaning_data.ipynb\""
   ]
  },
  {
   "cell_type": "code",
   "execution_count": 12,
   "metadata": {},
   "outputs": [],
   "source": [
    "REMOVED_COLUMNS_FILEPATH = os.path.join(DATA_DIRPATH, \"kepler_removed_columns.csv\")"
   ]
  },
  {
   "cell_type": "code",
   "execution_count": 13,
   "metadata": {},
   "outputs": [],
   "source": [
    "df = pd.read_csv(REMOVED_COLUMNS_FILEPATH)"
   ]
  },
  {
   "cell_type": "code",
   "execution_count": 14,
   "metadata": {},
   "outputs": [],
   "source": [
    "# Conversão da coluna \"koi_tce_delivname\" de object para int\n",
    "\n",
    "mapper = {value: number for number, value in enumerate(df[\"koi_tce_delivname\"].unique())}\n",
    "\n",
    "df[\"koi_tce_delivname\"] = df[\"koi_tce_delivname\"].map(mapper)"
   ]
  },
  {
   "cell_type": "code",
   "execution_count": 15,
   "metadata": {},
   "outputs": [
    {
     "data": {
      "text/plain": [
       "koi_tce_delivname\n",
       "0    6672\n",
       "1     395\n",
       "2     286\n",
       "3     229\n",
       "Name: count, dtype: int64"
      ]
     },
     "execution_count": 15,
     "metadata": {},
     "output_type": "execute_result"
    }
   ],
   "source": [
    "df[\"koi_tce_delivname\"].value_counts()"
   ]
  },
  {
   "cell_type": "code",
   "execution_count": 16,
   "metadata": {},
   "outputs": [],
   "source": [
    "df.to_csv(CONVERTED_TYPES_FILEPATH, index=False)"
   ]
  },
  {
   "cell_type": "code",
   "execution_count": 17,
   "metadata": {},
   "outputs": [],
   "source": [
    "df = pd.read_csv(CONVERTED_TYPES_FILEPATH)"
   ]
  },
  {
   "cell_type": "code",
   "execution_count": 18,
   "metadata": {},
   "outputs": [],
   "source": [
    "# Conversão da coluna \"koi_disposition\" de object para int\n",
    "\n",
    "mapper = {value: number for number, value in enumerate(df[\"koi_disposition\"].unique())}\n",
    "\n",
    "df[\"koi_disposition\"] = df[\"koi_disposition\"].map(mapper)"
   ]
  },
  {
   "cell_type": "code",
   "execution_count": 19,
   "metadata": {},
   "outputs": [
    {
     "data": {
      "text/plain": [
       "koi_disposition\n",
       "1    4839\n",
       "0    2743\n",
       "Name: count, dtype: int64"
      ]
     },
     "execution_count": 19,
     "metadata": {},
     "output_type": "execute_result"
    }
   ],
   "source": [
    "df[\"koi_disposition\"].value_counts()"
   ]
  },
  {
   "cell_type": "code",
   "execution_count": 20,
   "metadata": {},
   "outputs": [
    {
     "ename": "ValueError",
     "evalue": "Input contains NaN.",
     "output_type": "error",
     "traceback": [
      "\u001b[31m---------------------------------------------------------------------------\u001b[39m",
      "\u001b[31mValueError\u001b[39m                                Traceback (most recent call last)",
      "\u001b[36mCell\u001b[39m\u001b[36m \u001b[39m\u001b[32mIn[20]\u001b[39m\u001b[32m, line 7\u001b[39m\n\u001b[32m      3\u001b[39m \u001b[38;5;28;01mfrom\u001b[39;00m\u001b[38;5;250m \u001b[39m\u001b[34;01msklearn\u001b[39;00m\u001b[34;01m.\u001b[39;00m\u001b[34;01mpreprocessing\u001b[39;00m\u001b[38;5;250m \u001b[39m\u001b[38;5;28;01mimport\u001b[39;00m normalize\n\u001b[32m      5\u001b[39m df_float_only = df.select_dtypes(\u001b[33m\"\u001b[39m\u001b[33mfloat64\u001b[39m\u001b[33m\"\u001b[39m)\n\u001b[32m----> \u001b[39m\u001b[32m7\u001b[39m normalized_data = \u001b[43mnormalize\u001b[49m\u001b[43m(\u001b[49m\u001b[43mdf_float_only\u001b[49m\u001b[43m)\u001b[49m\n\u001b[32m      8\u001b[39m float_columns = df_float_only.columns\n\u001b[32m     10\u001b[39m \u001b[38;5;28mprint\u001b[39m(normalized_data.shape)\n",
      "\u001b[36mFile \u001b[39m\u001b[32m~/Documentos/python/kepler_objects_interest/venv/lib/python3.12/site-packages/sklearn/utils/_param_validation.py:216\u001b[39m, in \u001b[36mvalidate_params.<locals>.decorator.<locals>.wrapper\u001b[39m\u001b[34m(*args, **kwargs)\u001b[39m\n\u001b[32m    210\u001b[39m \u001b[38;5;28;01mtry\u001b[39;00m:\n\u001b[32m    211\u001b[39m     \u001b[38;5;28;01mwith\u001b[39;00m config_context(\n\u001b[32m    212\u001b[39m         skip_parameter_validation=(\n\u001b[32m    213\u001b[39m             prefer_skip_nested_validation \u001b[38;5;129;01mor\u001b[39;00m global_skip_validation\n\u001b[32m    214\u001b[39m         )\n\u001b[32m    215\u001b[39m     ):\n\u001b[32m--> \u001b[39m\u001b[32m216\u001b[39m         \u001b[38;5;28;01mreturn\u001b[39;00m \u001b[43mfunc\u001b[49m\u001b[43m(\u001b[49m\u001b[43m*\u001b[49m\u001b[43margs\u001b[49m\u001b[43m,\u001b[49m\u001b[43m \u001b[49m\u001b[43m*\u001b[49m\u001b[43m*\u001b[49m\u001b[43mkwargs\u001b[49m\u001b[43m)\u001b[49m\n\u001b[32m    217\u001b[39m \u001b[38;5;28;01mexcept\u001b[39;00m InvalidParameterError \u001b[38;5;28;01mas\u001b[39;00m e:\n\u001b[32m    218\u001b[39m     \u001b[38;5;66;03m# When the function is just a wrapper around an estimator, we allow\u001b[39;00m\n\u001b[32m    219\u001b[39m     \u001b[38;5;66;03m# the function to delegate validation to the estimator, but we replace\u001b[39;00m\n\u001b[32m    220\u001b[39m     \u001b[38;5;66;03m# the name of the estimator by the name of the function in the error\u001b[39;00m\n\u001b[32m    221\u001b[39m     \u001b[38;5;66;03m# message to avoid confusion.\u001b[39;00m\n\u001b[32m    222\u001b[39m     msg = re.sub(\n\u001b[32m    223\u001b[39m         \u001b[33mr\u001b[39m\u001b[33m\"\u001b[39m\u001b[33mparameter of \u001b[39m\u001b[33m\\\u001b[39m\u001b[33mw+ must be\u001b[39m\u001b[33m\"\u001b[39m,\n\u001b[32m    224\u001b[39m         \u001b[33mf\u001b[39m\u001b[33m\"\u001b[39m\u001b[33mparameter of \u001b[39m\u001b[38;5;132;01m{\u001b[39;00mfunc.\u001b[34m__qualname__\u001b[39m\u001b[38;5;132;01m}\u001b[39;00m\u001b[33m must be\u001b[39m\u001b[33m\"\u001b[39m,\n\u001b[32m    225\u001b[39m         \u001b[38;5;28mstr\u001b[39m(e),\n\u001b[32m    226\u001b[39m     )\n",
      "\u001b[36mFile \u001b[39m\u001b[32m~/Documentos/python/kepler_objects_interest/venv/lib/python3.12/site-packages/sklearn/preprocessing/_data.py:1965\u001b[39m, in \u001b[36mnormalize\u001b[39m\u001b[34m(X, norm, axis, copy, return_norm)\u001b[39m\n\u001b[32m   1961\u001b[39m     sparse_format = \u001b[33m\"\u001b[39m\u001b[33mcsr\u001b[39m\u001b[33m\"\u001b[39m\n\u001b[32m   1963\u001b[39m xp, _ = get_namespace(X)\n\u001b[32m-> \u001b[39m\u001b[32m1965\u001b[39m X = \u001b[43mcheck_array\u001b[49m\u001b[43m(\u001b[49m\n\u001b[32m   1966\u001b[39m \u001b[43m    \u001b[49m\u001b[43mX\u001b[49m\u001b[43m,\u001b[49m\n\u001b[32m   1967\u001b[39m \u001b[43m    \u001b[49m\u001b[43maccept_sparse\u001b[49m\u001b[43m=\u001b[49m\u001b[43msparse_format\u001b[49m\u001b[43m,\u001b[49m\n\u001b[32m   1968\u001b[39m \u001b[43m    \u001b[49m\u001b[43mcopy\u001b[49m\u001b[43m=\u001b[49m\u001b[43mcopy\u001b[49m\u001b[43m,\u001b[49m\n\u001b[32m   1969\u001b[39m \u001b[43m    \u001b[49m\u001b[43mestimator\u001b[49m\u001b[43m=\u001b[49m\u001b[33;43m\"\u001b[39;49m\u001b[33;43mthe normalize function\u001b[39;49m\u001b[33;43m\"\u001b[39;49m\u001b[43m,\u001b[49m\n\u001b[32m   1970\u001b[39m \u001b[43m    \u001b[49m\u001b[43mdtype\u001b[49m\u001b[43m=\u001b[49m\u001b[43m_array_api\u001b[49m\u001b[43m.\u001b[49m\u001b[43msupported_float_dtypes\u001b[49m\u001b[43m(\u001b[49m\u001b[43mxp\u001b[49m\u001b[43m)\u001b[49m\u001b[43m,\u001b[49m\n\u001b[32m   1971\u001b[39m \u001b[43m    \u001b[49m\u001b[43mforce_writeable\u001b[49m\u001b[43m=\u001b[49m\u001b[38;5;28;43;01mTrue\u001b[39;49;00m\u001b[43m,\u001b[49m\n\u001b[32m   1972\u001b[39m \u001b[43m\u001b[49m\u001b[43m)\u001b[49m\n\u001b[32m   1973\u001b[39m \u001b[38;5;28;01mif\u001b[39;00m axis == \u001b[32m0\u001b[39m:\n\u001b[32m   1974\u001b[39m     X = X.T\n",
      "\u001b[36mFile \u001b[39m\u001b[32m~/Documentos/python/kepler_objects_interest/venv/lib/python3.12/site-packages/sklearn/utils/validation.py:1107\u001b[39m, in \u001b[36mcheck_array\u001b[39m\u001b[34m(array, accept_sparse, accept_large_sparse, dtype, order, copy, force_writeable, force_all_finite, ensure_all_finite, ensure_non_negative, ensure_2d, allow_nd, ensure_min_samples, ensure_min_features, estimator, input_name)\u001b[39m\n\u001b[32m   1101\u001b[39m     \u001b[38;5;28;01mraise\u001b[39;00m \u001b[38;5;167;01mValueError\u001b[39;00m(\n\u001b[32m   1102\u001b[39m         \u001b[33m\"\u001b[39m\u001b[33mFound array with dim \u001b[39m\u001b[38;5;132;01m%d\u001b[39;00m\u001b[33m. \u001b[39m\u001b[38;5;132;01m%s\u001b[39;00m\u001b[33m expected <= 2.\u001b[39m\u001b[33m\"\u001b[39m\n\u001b[32m   1103\u001b[39m         % (array.ndim, estimator_name)\n\u001b[32m   1104\u001b[39m     )\n\u001b[32m   1106\u001b[39m \u001b[38;5;28;01mif\u001b[39;00m ensure_all_finite:\n\u001b[32m-> \u001b[39m\u001b[32m1107\u001b[39m     \u001b[43m_assert_all_finite\u001b[49m\u001b[43m(\u001b[49m\n\u001b[32m   1108\u001b[39m \u001b[43m        \u001b[49m\u001b[43marray\u001b[49m\u001b[43m,\u001b[49m\n\u001b[32m   1109\u001b[39m \u001b[43m        \u001b[49m\u001b[43minput_name\u001b[49m\u001b[43m=\u001b[49m\u001b[43minput_name\u001b[49m\u001b[43m,\u001b[49m\n\u001b[32m   1110\u001b[39m \u001b[43m        \u001b[49m\u001b[43mestimator_name\u001b[49m\u001b[43m=\u001b[49m\u001b[43mestimator_name\u001b[49m\u001b[43m,\u001b[49m\n\u001b[32m   1111\u001b[39m \u001b[43m        \u001b[49m\u001b[43mallow_nan\u001b[49m\u001b[43m=\u001b[49m\u001b[43mensure_all_finite\u001b[49m\u001b[43m \u001b[49m\u001b[43m==\u001b[49m\u001b[43m \u001b[49m\u001b[33;43m\"\u001b[39;49m\u001b[33;43mallow-nan\u001b[39;49m\u001b[33;43m\"\u001b[39;49m\u001b[43m,\u001b[49m\n\u001b[32m   1112\u001b[39m \u001b[43m    \u001b[49m\u001b[43m)\u001b[49m\n\u001b[32m   1114\u001b[39m \u001b[38;5;28;01mif\u001b[39;00m copy:\n\u001b[32m   1115\u001b[39m     \u001b[38;5;28;01mif\u001b[39;00m _is_numpy_namespace(xp):\n\u001b[32m   1116\u001b[39m         \u001b[38;5;66;03m# only make a copy if `array` and `array_orig` may share memory`\u001b[39;00m\n",
      "\u001b[36mFile \u001b[39m\u001b[32m~/Documentos/python/kepler_objects_interest/venv/lib/python3.12/site-packages/sklearn/utils/validation.py:120\u001b[39m, in \u001b[36m_assert_all_finite\u001b[39m\u001b[34m(X, allow_nan, msg_dtype, estimator_name, input_name)\u001b[39m\n\u001b[32m    117\u001b[39m \u001b[38;5;28;01mif\u001b[39;00m first_pass_isfinite:\n\u001b[32m    118\u001b[39m     \u001b[38;5;28;01mreturn\u001b[39;00m\n\u001b[32m--> \u001b[39m\u001b[32m120\u001b[39m \u001b[43m_assert_all_finite_element_wise\u001b[49m\u001b[43m(\u001b[49m\n\u001b[32m    121\u001b[39m \u001b[43m    \u001b[49m\u001b[43mX\u001b[49m\u001b[43m,\u001b[49m\n\u001b[32m    122\u001b[39m \u001b[43m    \u001b[49m\u001b[43mxp\u001b[49m\u001b[43m=\u001b[49m\u001b[43mxp\u001b[49m\u001b[43m,\u001b[49m\n\u001b[32m    123\u001b[39m \u001b[43m    \u001b[49m\u001b[43mallow_nan\u001b[49m\u001b[43m=\u001b[49m\u001b[43mallow_nan\u001b[49m\u001b[43m,\u001b[49m\n\u001b[32m    124\u001b[39m \u001b[43m    \u001b[49m\u001b[43mmsg_dtype\u001b[49m\u001b[43m=\u001b[49m\u001b[43mmsg_dtype\u001b[49m\u001b[43m,\u001b[49m\n\u001b[32m    125\u001b[39m \u001b[43m    \u001b[49m\u001b[43mestimator_name\u001b[49m\u001b[43m=\u001b[49m\u001b[43mestimator_name\u001b[49m\u001b[43m,\u001b[49m\n\u001b[32m    126\u001b[39m \u001b[43m    \u001b[49m\u001b[43minput_name\u001b[49m\u001b[43m=\u001b[49m\u001b[43minput_name\u001b[49m\u001b[43m,\u001b[49m\n\u001b[32m    127\u001b[39m \u001b[43m\u001b[49m\u001b[43m)\u001b[49m\n",
      "\u001b[36mFile \u001b[39m\u001b[32m~/Documentos/python/kepler_objects_interest/venv/lib/python3.12/site-packages/sklearn/utils/validation.py:169\u001b[39m, in \u001b[36m_assert_all_finite_element_wise\u001b[39m\u001b[34m(X, xp, allow_nan, msg_dtype, estimator_name, input_name)\u001b[39m\n\u001b[32m    152\u001b[39m \u001b[38;5;28;01mif\u001b[39;00m estimator_name \u001b[38;5;129;01mand\u001b[39;00m input_name == \u001b[33m\"\u001b[39m\u001b[33mX\u001b[39m\u001b[33m\"\u001b[39m \u001b[38;5;129;01mand\u001b[39;00m has_nan_error:\n\u001b[32m    153\u001b[39m     \u001b[38;5;66;03m# Improve the error message on how to handle missing values in\u001b[39;00m\n\u001b[32m    154\u001b[39m     \u001b[38;5;66;03m# scikit-learn.\u001b[39;00m\n\u001b[32m    155\u001b[39m     msg_err += (\n\u001b[32m    156\u001b[39m         \u001b[33mf\u001b[39m\u001b[33m\"\u001b[39m\u001b[38;5;130;01m\\n\u001b[39;00m\u001b[38;5;132;01m{\u001b[39;00mestimator_name\u001b[38;5;132;01m}\u001b[39;00m\u001b[33m does not accept missing values\u001b[39m\u001b[33m\"\u001b[39m\n\u001b[32m    157\u001b[39m         \u001b[33m\"\u001b[39m\u001b[33m encoded as NaN natively. For supervised learning, you might want\u001b[39m\u001b[33m\"\u001b[39m\n\u001b[32m   (...)\u001b[39m\u001b[32m    167\u001b[39m         \u001b[33m\"\u001b[39m\u001b[33m#estimators-that-handle-nan-values\u001b[39m\u001b[33m\"\u001b[39m\n\u001b[32m    168\u001b[39m     )\n\u001b[32m--> \u001b[39m\u001b[32m169\u001b[39m \u001b[38;5;28;01mraise\u001b[39;00m \u001b[38;5;167;01mValueError\u001b[39;00m(msg_err)\n",
      "\u001b[31mValueError\u001b[39m: Input contains NaN."
     ]
    }
   ],
   "source": [
    "# Normalização das colunas float entre 0 e 1\n",
    "\n",
    "from sklearn.preprocessing import normalize\n",
    "\n",
    "df_float_only = df.select_dtypes(\"float64\")\n",
    "\n",
    "normalized_data = normalize(df_float_only)\n",
    "float_columns = df_float_only.columns\n",
    "\n",
    "print(normalized_data.shape)\n",
    "print(float_columns.shape)\n",
    "\n",
    "for i in range(0, normalized_data.shape[1]):\n",
    "\n",
    "    df[float_columns[i]] = normalized_data[:, i]"
   ]
  },
  {
   "cell_type": "code",
   "execution_count": null,
   "metadata": {},
   "outputs": [
    {
     "data": {
      "text/html": [
       "<div>\n",
       "<style scoped>\n",
       "    .dataframe tbody tr th:only-of-type {\n",
       "        vertical-align: middle;\n",
       "    }\n",
       "\n",
       "    .dataframe tbody tr th {\n",
       "        vertical-align: top;\n",
       "    }\n",
       "\n",
       "    .dataframe thead th {\n",
       "        text-align: right;\n",
       "    }\n",
       "</style>\n",
       "<table border=\"1\" class=\"dataframe\">\n",
       "  <thead>\n",
       "    <tr style=\"text-align: right;\">\n",
       "      <th></th>\n",
       "      <th>koi_disposition</th>\n",
       "      <th>koi_fpflag_nt</th>\n",
       "      <th>koi_fpflag_ss</th>\n",
       "      <th>koi_fpflag_co</th>\n",
       "      <th>koi_fpflag_ec</th>\n",
       "      <th>koi_period</th>\n",
       "      <th>koi_time0bk</th>\n",
       "      <th>koi_impact</th>\n",
       "      <th>koi_duration</th>\n",
       "      <th>koi_depth</th>\n",
       "      <th>...</th>\n",
       "      <th>koi_insol</th>\n",
       "      <th>koi_model_snr</th>\n",
       "      <th>koi_tce_plnt_num</th>\n",
       "      <th>koi_tce_delivname</th>\n",
       "      <th>koi_steff</th>\n",
       "      <th>koi_slogg</th>\n",
       "      <th>koi_srad</th>\n",
       "      <th>koi_kepmag</th>\n",
       "      <th>dec</th>\n",
       "      <th>ra</th>\n",
       "    </tr>\n",
       "  </thead>\n",
       "  <tbody>\n",
       "    <tr>\n",
       "      <th>0</th>\n",
       "      <td>0</td>\n",
       "      <td>0</td>\n",
       "      <td>0</td>\n",
       "      <td>0</td>\n",
       "      <td>0</td>\n",
       "      <td>0.001709</td>\n",
       "      <td>0.030725</td>\n",
       "      <td>0.000026</td>\n",
       "      <td>0.000533</td>\n",
       "      <td>0.110946</td>\n",
       "      <td>...</td>\n",
       "      <td>0.016862</td>\n",
       "      <td>0.006450</td>\n",
       "      <td>0.000180</td>\n",
       "      <td>0</td>\n",
       "      <td>0.982807</td>\n",
       "      <td>0.000805</td>\n",
       "      <td>0.000167</td>\n",
       "      <td>0.002765</td>\n",
       "      <td>0.008673</td>\n",
       "      <td>0.003506</td>\n",
       "    </tr>\n",
       "    <tr>\n",
       "      <th>1</th>\n",
       "      <td>0</td>\n",
       "      <td>0</td>\n",
       "      <td>0</td>\n",
       "      <td>0</td>\n",
       "      <td>0</td>\n",
       "      <td>0.009813</td>\n",
       "      <td>0.029306</td>\n",
       "      <td>0.000106</td>\n",
       "      <td>0.000813</td>\n",
       "      <td>0.157752</td>\n",
       "      <td>...</td>\n",
       "      <td>0.001643</td>\n",
       "      <td>0.004652</td>\n",
       "      <td>0.000361</td>\n",
       "      <td>0</td>\n",
       "      <td>0.983695</td>\n",
       "      <td>0.000806</td>\n",
       "      <td>0.000167</td>\n",
       "      <td>0.002768</td>\n",
       "      <td>0.008681</td>\n",
       "      <td>0.003510</td>\n",
       "    </tr>\n",
       "    <tr>\n",
       "      <th>2</th>\n",
       "      <td>1</td>\n",
       "      <td>0</td>\n",
       "      <td>1</td>\n",
       "      <td>0</td>\n",
       "      <td>0</td>\n",
       "      <td>0.000172</td>\n",
       "      <td>0.016863</td>\n",
       "      <td>0.000126</td>\n",
       "      <td>0.000238</td>\n",
       "      <td>0.799953</td>\n",
       "      <td>...</td>\n",
       "      <td>0.088316</td>\n",
       "      <td>0.050061</td>\n",
       "      <td>0.000099</td>\n",
       "      <td>0</td>\n",
       "      <td>0.574775</td>\n",
       "      <td>0.000452</td>\n",
       "      <td>0.000078</td>\n",
       "      <td>0.001544</td>\n",
       "      <td>0.004781</td>\n",
       "      <td>0.001885</td>\n",
       "    </tr>\n",
       "    <tr>\n",
       "      <th>3</th>\n",
       "      <td>0</td>\n",
       "      <td>0</td>\n",
       "      <td>0</td>\n",
       "      <td>0</td>\n",
       "      <td>0</td>\n",
       "      <td>0.000401</td>\n",
       "      <td>0.027266</td>\n",
       "      <td>0.000111</td>\n",
       "      <td>0.000263</td>\n",
       "      <td>0.095864</td>\n",
       "      <td>...</td>\n",
       "      <td>0.147166</td>\n",
       "      <td>0.006499</td>\n",
       "      <td>0.000159</td>\n",
       "      <td>0</td>\n",
       "      <td>0.958321</td>\n",
       "      <td>0.000705</td>\n",
       "      <td>0.000166</td>\n",
       "      <td>0.002464</td>\n",
       "      <td>0.007663</td>\n",
       "      <td>0.003059</td>\n",
       "    </tr>\n",
       "    <tr>\n",
       "      <th>4</th>\n",
       "      <td>0</td>\n",
       "      <td>0</td>\n",
       "      <td>0</td>\n",
       "      <td>0</td>\n",
       "      <td>0</td>\n",
       "      <td>0.001763</td>\n",
       "      <td>0.027204</td>\n",
       "      <td>0.000085</td>\n",
       "      <td>0.000730</td>\n",
       "      <td>0.241134</td>\n",
       "      <td>...</td>\n",
       "      <td>0.018244</td>\n",
       "      <td>0.010567</td>\n",
       "      <td>0.000159</td>\n",
       "      <td>0</td>\n",
       "      <td>0.960721</td>\n",
       "      <td>0.000713</td>\n",
       "      <td>0.000154</td>\n",
       "      <td>0.002497</td>\n",
       "      <td>0.007663</td>\n",
       "      <td>0.003139</td>\n",
       "    </tr>\n",
       "  </tbody>\n",
       "</table>\n",
       "<p>5 rows × 22 columns</p>\n",
       "</div>"
      ],
      "text/plain": [
       "   koi_disposition  koi_fpflag_nt  koi_fpflag_ss  koi_fpflag_co  \\\n",
       "0                0              0              0              0   \n",
       "1                0              0              0              0   \n",
       "2                1              0              1              0   \n",
       "3                0              0              0              0   \n",
       "4                0              0              0              0   \n",
       "\n",
       "   koi_fpflag_ec  koi_period  koi_time0bk  koi_impact  koi_duration  \\\n",
       "0              0    0.001709     0.030725    0.000026      0.000533   \n",
       "1              0    0.009813     0.029306    0.000106      0.000813   \n",
       "2              0    0.000172     0.016863    0.000126      0.000238   \n",
       "3              0    0.000401     0.027266    0.000111      0.000263   \n",
       "4              0    0.001763     0.027204    0.000085      0.000730   \n",
       "\n",
       "   koi_depth  ...  koi_insol  koi_model_snr  koi_tce_plnt_num  \\\n",
       "0   0.110946  ...   0.016862       0.006450          0.000180   \n",
       "1   0.157752  ...   0.001643       0.004652          0.000361   \n",
       "2   0.799953  ...   0.088316       0.050061          0.000099   \n",
       "3   0.095864  ...   0.147166       0.006499          0.000159   \n",
       "4   0.241134  ...   0.018244       0.010567          0.000159   \n",
       "\n",
       "   koi_tce_delivname  koi_steff  koi_slogg  koi_srad  koi_kepmag       dec  \\\n",
       "0                  0   0.982807   0.000805  0.000167    0.002765  0.008673   \n",
       "1                  0   0.983695   0.000806  0.000167    0.002768  0.008681   \n",
       "2                  0   0.574775   0.000452  0.000078    0.001544  0.004781   \n",
       "3                  0   0.958321   0.000705  0.000166    0.002464  0.007663   \n",
       "4                  0   0.960721   0.000713  0.000154    0.002497  0.007663   \n",
       "\n",
       "         ra  \n",
       "0  0.003506  \n",
       "1  0.003510  \n",
       "2  0.001885  \n",
       "3  0.003059  \n",
       "4  0.003139  \n",
       "\n",
       "[5 rows x 22 columns]"
      ]
     },
     "execution_count": 191,
     "metadata": {},
     "output_type": "execute_result"
    }
   ],
   "source": [
    "df.head()"
   ]
  },
  {
   "cell_type": "code",
   "execution_count": null,
   "metadata": {},
   "outputs": [],
   "source": [
    "NORMALIZED_FILEPATH = os.path.join(DATA_DIRPATH, \"kepler_normalized.csv\")"
   ]
  },
  {
   "cell_type": "code",
   "execution_count": null,
   "metadata": {},
   "outputs": [],
   "source": [
    "df.to_csv(NORMALIZED_FILEPATH, index=False)"
   ]
  },
  {
   "cell_type": "markdown",
   "metadata": {},
   "source": [
    "Agora é possível construir o modelo de ML. Isso será feito no arquivo \"data_mining.ipynb\", que também será responsável por balancear a coluna-alvo"
   ]
  }
 ],
 "metadata": {
  "kernelspec": {
   "display_name": "venv",
   "language": "python",
   "name": "python3"
  },
  "language_info": {
   "codemirror_mode": {
    "name": "ipython",
    "version": 3
   },
   "file_extension": ".py",
   "mimetype": "text/x-python",
   "name": "python",
   "nbconvert_exporter": "python",
   "pygments_lexer": "ipython3",
   "version": "3.12.9"
  }
 },
 "nbformat": 4,
 "nbformat_minor": 2
}
