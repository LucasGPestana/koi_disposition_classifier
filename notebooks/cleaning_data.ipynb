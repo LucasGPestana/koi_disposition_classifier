{
 "cells": [
  {
   "cell_type": "markdown",
   "metadata": {},
   "source": [
    "Esse arquivo serve para realizar qualquer limpeza na base, no que tange ao tratamento de valores nulos, eliminação de colunas desnecessárias e padronização dos dados"
   ]
  },
  {
   "cell_type": "code",
   "execution_count": 1,
   "metadata": {},
   "outputs": [],
   "source": [
    "import pandas as pd\n",
    "import os"
   ]
  },
  {
   "cell_type": "code",
   "execution_count": 2,
   "metadata": {},
   "outputs": [],
   "source": [
    "# Importando as constantes de constant.py no notebook\n",
    "\n",
    "%run ../utils/constants.py"
   ]
  },
  {
   "cell_type": "code",
   "execution_count": 3,
   "metadata": {},
   "outputs": [],
   "source": [
    "# Caminho para a base de dados do Kepler\n",
    "BASEPATH = os.path.join(DATA_DIRPATH, \"kepler_data.csv\")"
   ]
  },
  {
   "cell_type": "code",
   "execution_count": 4,
   "metadata": {},
   "outputs": [],
   "source": [
    "df = pd.read_csv(BASEPATH)"
   ]
  },
  {
   "cell_type": "code",
   "execution_count": 5,
   "metadata": {},
   "outputs": [],
   "source": [
    "# Eliminação dos registros classificados como CANDIDATE\n",
    "df = df[df[\"koi_disposition\"] != \"CANDIDATE\"]"
   ]
  },
  {
   "cell_type": "code",
   "execution_count": 6,
   "metadata": {},
   "outputs": [
    {
     "data": {
      "text/plain": [
       "koi_disposition\n",
       "FALSE POSITIVE    4839\n",
       "CONFIRMED         2743\n",
       "Name: count, dtype: int64"
      ]
     },
     "execution_count": 6,
     "metadata": {},
     "output_type": "execute_result"
    }
   ],
   "source": [
    "df[\"koi_disposition\"].value_counts()"
   ]
  },
  {
   "cell_type": "code",
   "execution_count": 7,
   "metadata": {},
   "outputs": [],
   "source": [
    "# Colunas a serem removidas\n",
    "\n",
    "err_columns = list(filter(lambda x: \"_err\" in x, df.columns))\n",
    "other_columns = [\"kepid\", \"kepoi_name\", \"kepler_name\", \"koi_pdisposition\", \"koi_score\"]\n",
    "\n",
    "removed_columns = err_columns + other_columns"
   ]
  },
  {
   "cell_type": "code",
   "execution_count": 8,
   "metadata": {},
   "outputs": [],
   "source": [
    "# Eliminação das colunas desnecessárias\n",
    "\n",
    "df_removed_columns = df.drop(removed_columns, axis=1)"
   ]
  },
  {
   "cell_type": "code",
   "execution_count": 156,
   "metadata": {},
   "outputs": [
    {
     "name": "stdout",
     "output_type": "stream",
     "text": [
      "<class 'pandas.core.frame.DataFrame'>\n",
      "Index: 7582 entries, 0 to 9563\n",
      "Data columns (total 22 columns):\n",
      " #   Column             Non-Null Count  Dtype  \n",
      "---  ------             --------------  -----  \n",
      " 0   koi_disposition    7582 non-null   object \n",
      " 1   koi_fpflag_nt      7582 non-null   int64  \n",
      " 2   koi_fpflag_ss      7582 non-null   int64  \n",
      " 3   koi_fpflag_co      7582 non-null   int64  \n",
      " 4   koi_fpflag_ec      7582 non-null   int64  \n",
      " 5   koi_period         7582 non-null   float64\n",
      " 6   koi_time0bk        7582 non-null   float64\n",
      " 7   koi_impact         7323 non-null   float64\n",
      " 8   koi_duration       7582 non-null   float64\n",
      " 9   koi_depth          7323 non-null   float64\n",
      " 10  koi_prad           7323 non-null   float64\n",
      " 11  koi_teq            7323 non-null   float64\n",
      " 12  koi_insol          7363 non-null   float64\n",
      " 13  koi_model_snr      7323 non-null   float64\n",
      " 14  koi_tce_plnt_num   7296 non-null   float64\n",
      " 15  koi_tce_delivname  7296 non-null   object \n",
      " 16  koi_steff          7323 non-null   float64\n",
      " 17  koi_slogg          7323 non-null   float64\n",
      " 18  koi_srad           7323 non-null   float64\n",
      " 19  ra_str             7582 non-null   object \n",
      " 20  dec_str            7582 non-null   object \n",
      " 21  koi_kepmag         7581 non-null   float64\n",
      "dtypes: float64(14), int64(4), object(4)\n",
      "memory usage: 1.3+ MB\n"
     ]
    }
   ],
   "source": [
    "df_removed_columns.info()"
   ]
  },
  {
   "cell_type": "code",
   "execution_count": 9,
   "metadata": {},
   "outputs": [],
   "source": [
    "REMOVED_COLUMNS_FILEPATH = os.path.join(DATA_DIRPATH, \"kepler_removed_columns.csv\")\n",
    "df_removed_columns.to_csv(REMOVED_COLUMNS_FILEPATH, index=False)"
   ]
  },
  {
   "cell_type": "code",
   "execution_count": 10,
   "metadata": {},
   "outputs": [],
   "source": [
    "df = pd.read_csv(REMOVED_COLUMNS_FILEPATH)"
   ]
  },
  {
   "cell_type": "code",
   "execution_count": 11,
   "metadata": {},
   "outputs": [],
   "source": [
    "# Eliminação das instâncias com valores nulos\n",
    "df = df.dropna()"
   ]
  },
  {
   "cell_type": "code",
   "execution_count": 12,
   "metadata": {},
   "outputs": [
    {
     "name": "stdout",
     "output_type": "stream",
     "text": [
      "<class 'pandas.core.frame.DataFrame'>\n",
      "Index: 7112 entries, 0 to 7581\n",
      "Data columns (total 22 columns):\n",
      " #   Column             Non-Null Count  Dtype  \n",
      "---  ------             --------------  -----  \n",
      " 0   koi_disposition    7112 non-null   object \n",
      " 1   koi_fpflag_nt      7112 non-null   int64  \n",
      " 2   koi_fpflag_ss      7112 non-null   int64  \n",
      " 3   koi_fpflag_co      7112 non-null   int64  \n",
      " 4   koi_fpflag_ec      7112 non-null   int64  \n",
      " 5   koi_period         7112 non-null   float64\n",
      " 6   koi_time0bk        7112 non-null   float64\n",
      " 7   koi_impact         7112 non-null   float64\n",
      " 8   koi_duration       7112 non-null   float64\n",
      " 9   koi_depth          7112 non-null   float64\n",
      " 10  koi_prad           7112 non-null   float64\n",
      " 11  koi_teq            7112 non-null   float64\n",
      " 12  koi_insol          7112 non-null   float64\n",
      " 13  koi_model_snr      7112 non-null   float64\n",
      " 14  koi_tce_plnt_num   7112 non-null   float64\n",
      " 15  koi_tce_delivname  7112 non-null   object \n",
      " 16  koi_steff          7112 non-null   float64\n",
      " 17  koi_slogg          7112 non-null   float64\n",
      " 18  koi_srad           7112 non-null   float64\n",
      " 19  ra_str             7112 non-null   object \n",
      " 20  dec_str            7112 non-null   object \n",
      " 21  koi_kepmag         7112 non-null   float64\n",
      "dtypes: float64(14), int64(4), object(4)\n",
      "memory usage: 1.2+ MB\n"
     ]
    }
   ],
   "source": [
    "df.info()"
   ]
  },
  {
   "cell_type": "code",
   "execution_count": 13,
   "metadata": {},
   "outputs": [],
   "source": [
    "REMOVED_NULL_INSTANCES_FILEPATH = os.path.join(DATA_DIRPATH, \"kepler_removed_null_instances.csv\")\n",
    "df.to_csv(REMOVED_NULL_INSTANCES_FILEPATH, index=False)"
   ]
  },
  {
   "cell_type": "code",
   "execution_count": 14,
   "metadata": {},
   "outputs": [],
   "source": [
    "CONVERTED_TYPES_PATH = os.path.join(DATA_DIRPATH, \"kepler_coverted_types.csv\")"
   ]
  },
  {
   "cell_type": "code",
   "execution_count": 15,
   "metadata": {},
   "outputs": [],
   "source": [
    "df = pd.read_csv(CONVERTED_TYPES_PATH)"
   ]
  },
  {
   "cell_type": "code",
   "execution_count": 16,
   "metadata": {},
   "outputs": [],
   "source": [
    "# Removendo as colunas \"koi_time0bk\" e \"koi_period\"\n",
    "\n",
    "removed_columns = [\"koi_time0bk\", \"koi_period\"]\n",
    "\n",
    "df = df.drop(removed_columns, axis=1)"
   ]
  },
  {
   "cell_type": "code",
   "execution_count": 17,
   "metadata": {},
   "outputs": [],
   "source": [
    "# Removendo as colunas que foram transformadas de object para float\n",
    "\n",
    "removed_columns = [\"dec_str\", \"ra_str\"]\n",
    "\n",
    "df = df.drop(removed_columns, axis=1)"
   ]
  },
  {
   "cell_type": "code",
   "execution_count": 18,
   "metadata": {},
   "outputs": [],
   "source": [
    "df.to_csv(REMOVED_COLUMNS_FILEPATH, index=False)"
   ]
  }
 ],
 "metadata": {
  "kernelspec": {
   "display_name": "venv",
   "language": "python",
   "name": "python3"
  },
  "language_info": {
   "codemirror_mode": {
    "name": "ipython",
    "version": 3
   },
   "file_extension": ".py",
   "mimetype": "text/x-python",
   "name": "python",
   "nbconvert_exporter": "python",
   "pygments_lexer": "ipython3",
   "version": "3.12.9"
  }
 },
 "nbformat": 4,
 "nbformat_minor": 2
}
